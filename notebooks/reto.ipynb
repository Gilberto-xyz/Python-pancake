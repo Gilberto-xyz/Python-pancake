{
 "cells": [
  {
   "cell_type": "markdown",
   "metadata": {},
   "source": [
    "# Arreglo de 3 dimensiones que se puede ordenar mediante la edad, nombre o pais "
   ]
  },
  {
   "cell_type": "code",
   "execution_count": 1,
   "metadata": {},
   "outputs": [],
   "source": [
    "import numpy as np"
   ]
  },
  {
   "cell_type": "code",
   "execution_count": 2,
   "metadata": {},
   "outputs": [],
   "source": [
    "header = [('Nombre', 'S10'), ('Edad', int), ('Pais','S10')]\n",
    "datos = [ ('Julieta', 40, 'Mexico'), ('Sofia', 30, 'Uruguay'),('Alberto', 50, 'Argentina'), ('Facundo', 25, 'Brasil'), ('Carlos', 15, 'Chile'), ('Lucas', 35, 'Argentina')]\n",
    "\n",
    "usuarios = np.array(datos, dtype=header)"
   ]
  },
  {
   "cell_type": "code",
   "execution_count": 5,
   "metadata": {},
   "outputs": [
    {
     "data": {
      "text/plain": [
       "array([(b'Alberto', 50, b'Argentina'), (b'Carlos', 15, b'Chile'),\n",
       "       (b'Facundo', 25, b'Brasil'), (b'Julieta', 40, b'Mexico'),\n",
       "       (b'Lucas', 35, b'Argentina'), (b'Sofia', 30, b'Uruguay')],\n",
       "      dtype=[('Nombre', 'S10'), ('Edad', '<i8'), ('Pais', 'S10')])"
      ]
     },
     "execution_count": 5,
     "metadata": {},
     "output_type": "execute_result"
    }
   ],
   "source": [
    "np.sort(usuarios, order='Nombre')"
   ]
  }
 ],
 "metadata": {
  "interpreter": {
   "hash": "ac2359d16f2b58e60c136fe491418667a040b9a86de687b6c59ee7e150211c1f"
  },
  "kernelspec": {
   "display_name": "Python 3.9.7 64-bit ('numpy': conda)",
   "name": "python3"
  },
  "language_info": {
   "codemirror_mode": {
    "name": "ipython",
    "version": 3
   },
   "file_extension": ".py",
   "mimetype": "text/x-python",
   "name": "python",
   "nbconvert_exporter": "python",
   "pygments_lexer": "ipython3",
   "version": "3.9.7"
  },
  "orig_nbformat": 4
 },
 "nbformat": 4,
 "nbformat_minor": 2
}

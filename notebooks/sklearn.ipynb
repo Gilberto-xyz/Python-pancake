{
 "cells": [
  {
   "cell_type": "markdown",
   "metadata": {},
   "source": [
    "# Clase de skLearn"
   ]
  },
  {
   "cell_type": "markdown",
   "metadata": {},
   "source": [
    "## Paquetes que se ocupan mucho de sklearn"
   ]
  },
  {
   "cell_type": "code",
   "execution_count": null,
   "metadata": {},
   "outputs": [],
   "source": [
    "# Para realizar procesamiento de los datos \n",
    "from sklearn import preprocessing\n",
    "\n",
    "# Para establecer nuestros conjuntos de entrenamiento y evaluación\n",
    "from sklearn import train_test_split\n",
    "\n",
    "# Para usar las metricas necesarias para analizar la ejecucion de nuestros modelos\n",
    "from sklearn import metrics"
   ]
  },
  {
   "cell_type": "code",
   "execution_count": null,
   "metadata": {},
   "outputs": [],
   "source": []
  }
 ],
 "metadata": {
  "interpreter": {
   "hash": "ac2359d16f2b58e60c136fe491418667a040b9a86de687b6c59ee7e150211c1f"
  },
  "kernelspec": {
   "display_name": "Python 3.9.7 64-bit ('numpy': conda)",
   "name": "python3"
  },
  "language_info": {
   "name": "python",
   "version": "3.9.7"
  },
  "orig_nbformat": 4
 },
 "nbformat": 4,
 "nbformat_minor": 2
}

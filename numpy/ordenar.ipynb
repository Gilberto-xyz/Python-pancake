{
 "cells": [
  {
   "cell_type": "markdown",
   "metadata": {},
   "source": [
    "# Ordenamiento"
   ]
  },
  {
   "cell_type": "code",
   "execution_count": 1,
   "metadata": {},
   "outputs": [
    {
     "data": {
      "text/plain": [
       "array([17, 19, 24,  2, 21, 82, 39, 41, 32, 82, 96, 86, 54, 74, 67, 71, 47,\n",
       "       27, 42,  9, 93,  8, 93, 95, 63, 44, 98, 21, 46, 95, 84, 36, 89, 14,\n",
       "       82, 98, 73, 80,  1, 50, 43, 11, 88, 61, 42, 29,  2, 74, 77, 39])"
      ]
     },
     "execution_count": 1,
     "metadata": {},
     "output_type": "execute_result"
    }
   ],
   "source": [
    "import numpy as np\n",
    "a = np.random.randint(1, 100, 50)\n",
    "a"
   ]
  },
  {
   "cell_type": "markdown",
   "metadata": {},
   "source": [
    "## Ordenar ascendente"
   ]
  },
  {
   "cell_type": "code",
   "execution_count": 3,
   "metadata": {},
   "outputs": [
    {
     "data": {
      "text/plain": [
       "array([ 1,  2,  2,  8,  9, 11, 14, 17, 19, 21, 21, 24, 27, 29, 32, 36, 39,\n",
       "       39, 41, 42, 42, 43, 44, 46, 47, 50, 54, 61, 63, 67, 71, 73, 74, 74,\n",
       "       77, 80, 82, 82, 82, 84, 86, 88, 89, 93, 93, 95, 95, 96, 98, 98])"
      ]
     },
     "execution_count": 3,
     "metadata": {},
     "output_type": "execute_result"
    }
   ],
   "source": [
    "a.sort()\n",
    "a"
   ]
  },
  {
   "cell_type": "markdown",
   "metadata": {},
   "source": [
    "## Ordenar Descendente\n"
   ]
  },
  {
   "cell_type": "code",
   "execution_count": 5,
   "metadata": {},
   "outputs": [
    {
     "data": {
      "text/plain": [
       "array([98, 98, 96, 95, 95, 93, 93, 89, 88, 86, 84, 82, 82, 82, 80, 77, 74,\n",
       "       74, 73, 71, 67, 63, 61, 54, 50, 47, 46, 44, 43, 42, 42, 41, 39, 39,\n",
       "       36, 32, 29, 27, 24, 21, 21, 19, 17, 14, 11,  9,  8,  2,  2,  1])"
      ]
     },
     "execution_count": 5,
     "metadata": {},
     "output_type": "execute_result"
    }
   ],
   "source": [
    "a[::-1]"
   ]
  }
 ],
 "metadata": {
  "interpreter": {
   "hash": "7c7891e7cf380ed489d75a267c4c9edc21b025f50aaae629f7ee24d6d95fc690"
  },
  "kernelspec": {
   "display_name": "Python 3.10.0 64-bit",
   "language": "python",
   "name": "python3"
  },
  "language_info": {
   "codemirror_mode": {
    "name": "ipython",
    "version": 3
   },
   "file_extension": ".py",
   "mimetype": "text/x-python",
   "name": "python",
   "nbconvert_exporter": "python",
   "pygments_lexer": "ipython3",
   "version": "3.10.0"
  },
  "orig_nbformat": 4
 },
 "nbformat": 4,
 "nbformat_minor": 2
}

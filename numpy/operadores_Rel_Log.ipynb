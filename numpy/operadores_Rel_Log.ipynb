{
 "cells": [
  {
   "cell_type": "markdown",
   "metadata": {},
   "source": [
    "# Operadores relacionales y logicos"
   ]
  },
  {
   "cell_type": "code",
   "execution_count": 2,
   "metadata": {},
   "outputs": [
    {
     "data": {
      "text/plain": [
       "array([4, 2, 4, 2, 6, 3, 3, 3, 8, 6])"
      ]
     },
     "execution_count": 2,
     "metadata": {},
     "output_type": "execute_result"
    }
   ],
   "source": [
    "import numpy as np\n",
    "a =  np.random.randint(1, 10, 10)\n",
    "a"
   ]
  },
  {
   "cell_type": "markdown",
   "metadata": {},
   "source": [
    "### Valor menor que arreglo"
   ]
  },
  {
   "cell_type": "code",
   "execution_count": 3,
   "metadata": {},
   "outputs": [
    {
     "data": {
      "text/plain": [
       "array([ True,  True,  True,  True, False,  True,  True,  True, False,\n",
       "       False])"
      ]
     },
     "execution_count": 3,
     "metadata": {},
     "output_type": "execute_result"
    }
   ],
   "source": [
    "a < 5"
   ]
  },
  {
   "cell_type": "markdown",
   "metadata": {},
   "source": [
    "## Podemos mostrar en una sublista los valores que cumplen la condicion"
   ]
  },
  {
   "cell_type": "code",
   "execution_count": 4,
   "metadata": {},
   "outputs": [
    {
     "data": {
      "text/plain": [
       "array([6, 8, 6])"
      ]
     },
     "execution_count": 4,
     "metadata": {},
     "output_type": "execute_result"
    }
   ],
   "source": [
    "a[a > 5]"
   ]
  },
  {
   "cell_type": "code",
   "execution_count": 5,
   "metadata": {},
   "outputs": [
    {
     "data": {
      "text/plain": [
       "array([4, 2, 4, 2, 3, 3, 3])"
      ]
     },
     "execution_count": 5,
     "metadata": {},
     "output_type": "execute_result"
    }
   ],
   "source": [
    "a[a < 5]"
   ]
  },
  {
   "cell_type": "markdown",
   "metadata": {},
   "source": [
    "## Implementando operadores logicos"
   ]
  },
  {
   "cell_type": "code",
   "execution_count": 7,
   "metadata": {},
   "outputs": [
    {
     "data": {
      "text/plain": [
       "array([27, 31,  9, 43, 86, 91, 29, 24, 79,  4, 31, 46, 38, 97, 54, 76,  8,\n",
       "       78, 20, 87, 71, 32, 62, 12, 69, 79, 45, 71, 79, 42, 47, 45, 13, 78,\n",
       "       28, 72,  3, 39, 10, 34, 90, 57, 72, 17,  2, 65, 17,  1, 94, 20, 63,\n",
       "       62, 52, 98,  0, 89, 54, 53, 41, 83, 64, 10, 42, 59,  0, 55, 27, 22,\n",
       "       17, 33, 77, 53, 71, 10, 88, 58, 52, 57,  5, 79, 67, 77, 16, 30, 85,\n",
       "        9, 95, 25, 46, 61, 48, 60, 92,  3, 84, 62, 86, 42, 92, 67, 14, 45,\n",
       "       37,  1, 44, 46, 67, 61,  8, 38, 33, 66, 19, 15, 89, 86, 74,  9, 43,\n",
       "       10, 85, 58, 48, 27, 83, 80, 47, 92, 96, 43,  4, 46, 66, 52, 64, 91,\n",
       "       51, 99, 52, 71, 42, 98, 81, 89, 52, 11, 41, 48, 54, 88, 28,  0, 96,\n",
       "       51, 90, 86, 84, 71,  3, 32, 12, 13,  0, 90, 52, 33, 31, 11, 56, 58,\n",
       "       80, 79, 57, 62, 72, 60, 96,  9, 67, 84, 30, 63, 58, 10, 35, 78, 86,\n",
       "       74, 47, 76, 39,  2, 62, 48, 52, 22, 63, 99, 12, 82])"
      ]
     },
     "execution_count": 7,
     "metadata": {},
     "output_type": "execute_result"
    }
   ],
   "source": [
    "c = np.random.randint(0, 100, 200)\n",
    "c"
   ]
  },
  {
   "cell_type": "code",
   "execution_count": 8,
   "metadata": {},
   "outputs": [
    {
     "data": {
      "text/plain": [
       "array([27, 31, 43, 86, 91, 29, 24, 79, 31, 46, 38, 97, 54, 76, 78, 20, 87,\n",
       "       71, 32, 62, 12, 69, 79, 45, 71, 79, 42, 47, 45, 13, 78, 28, 72, 39,\n",
       "       34, 90, 57, 72, 17, 65, 17, 94, 20, 63, 62, 52, 98, 89, 54, 53, 41,\n",
       "       83, 64, 42, 59, 55, 27, 22, 17, 33, 77, 53, 71, 88, 58, 52, 57, 79,\n",
       "       67, 77, 16, 30, 85, 95, 25, 46, 61, 48, 60, 92, 84, 62, 86, 42, 92,\n",
       "       67, 14, 45, 37, 44, 46, 67, 61, 38, 33, 66, 19, 15, 89, 86, 74, 43,\n",
       "       85, 58, 48, 27, 83, 80, 47, 92, 96, 43, 46, 66, 52, 64, 91, 51, 99,\n",
       "       52, 71, 42, 98, 81, 89, 52, 11, 41, 48, 54, 88, 28, 96, 51, 90, 86,\n",
       "       84, 71, 32, 12, 13, 90, 52, 33, 31, 11, 56, 58, 80, 79, 57, 62, 72,\n",
       "       60, 96, 67, 84, 30, 63, 58, 35, 78, 86, 74, 47, 76, 39, 62, 48, 52,\n",
       "       22, 63, 99, 12, 82])"
      ]
     },
     "execution_count": 8,
     "metadata": {},
     "output_type": "execute_result"
    }
   ],
   "source": [
    "c[c > 10]"
   ]
  },
  {
   "cell_type": "code",
   "execution_count": 9,
   "metadata": {},
   "outputs": [
    {
     "data": {
      "text/plain": [
       "175"
      ]
     },
     "execution_count": 9,
     "metadata": {},
     "output_type": "execute_result"
    }
   ],
   "source": [
    "# Mostrar cuantos elementos cumplen con la condicion\n",
    "c[c > 10].size"
   ]
  },
  {
   "cell_type": "markdown",
   "metadata": {},
   "source": [
    "## Mostrar los elementos que sean mayor de 10, pero menor que 50"
   ]
  },
  {
   "cell_type": "code",
   "execution_count": 10,
   "metadata": {},
   "outputs": [
    {
     "data": {
      "text/plain": [
       "array([27, 31, 43, 29, 24, 31, 46, 38, 20, 32, 12, 45, 42, 47, 45, 13, 28,\n",
       "       39, 34, 17, 17, 20, 41, 42, 27, 22, 17, 33, 16, 30, 25, 46, 48, 42,\n",
       "       14, 45, 37, 44, 46, 38, 33, 19, 15, 43, 48, 27, 47, 43, 46, 42, 11,\n",
       "       41, 48, 28, 32, 12, 13, 33, 31, 11, 30, 35, 47, 39, 48, 22, 12])"
      ]
     },
     "execution_count": 10,
     "metadata": {},
     "output_type": "execute_result"
    }
   ],
   "source": [
    "c[(c > 10) & (c <50 )]"
   ]
  },
  {
   "cell_type": "code",
   "execution_count": 11,
   "metadata": {},
   "outputs": [
    {
     "data": {
      "text/plain": [
       "67"
      ]
     },
     "execution_count": 11,
     "metadata": {},
     "output_type": "execute_result"
    }
   ],
   "source": [
    "c[(c > 10) & (c <50 )].size"
   ]
  },
  {
   "cell_type": "markdown",
   "metadata": {},
   "source": [
    "## Mostrando los elementos que no sean iguales a 10, pero que sean menores a 20"
   ]
  },
  {
   "cell_type": "code",
   "execution_count": 12,
   "metadata": {},
   "outputs": [
    {
     "data": {
      "text/plain": [
       "array([ 9,  4,  8, 12, 13,  3, 17,  2, 17,  1,  0,  0, 17,  5, 16,  9,  3,\n",
       "       14,  1,  8, 19, 15,  9,  4, 11,  0,  3, 12, 13,  0, 11,  9,  2, 12])"
      ]
     },
     "execution_count": 12,
     "metadata": {},
     "output_type": "execute_result"
    }
   ],
   "source": [
    "c[ (c != 10) & (c < 20)]"
   ]
  },
  {
   "cell_type": "markdown",
   "metadata": {},
   "source": [
    "## Mostrando los valores que sean 40 o mayores de 80"
   ]
  },
  {
   "cell_type": "code",
   "execution_count": 15,
   "metadata": {},
   "outputs": [
    {
     "data": {
      "text/plain": [
       "array([86, 91, 97, 87, 90, 94, 98, 89, 83, 88, 85, 95, 92, 84, 86, 92, 89,\n",
       "       86, 85, 83, 92, 96, 91, 99, 98, 81, 89, 88, 96, 90, 86, 84, 90, 96,\n",
       "       84, 86, 99, 82])"
      ]
     },
     "execution_count": 15,
     "metadata": {},
     "output_type": "execute_result"
    }
   ],
   "source": [
    "c[(c == 40) | (c > 80) ]"
   ]
  }
 ],
 "metadata": {
  "interpreter": {
   "hash": "7c7891e7cf380ed489d75a267c4c9edc21b025f50aaae629f7ee24d6d95fc690"
  },
  "kernelspec": {
   "display_name": "Python 3.10.0 64-bit",
   "language": "python",
   "name": "python3"
  },
  "language_info": {
   "codemirror_mode": {
    "name": "ipython",
    "version": 3
   },
   "file_extension": ".py",
   "mimetype": "text/x-python",
   "name": "python",
   "nbconvert_exporter": "python",
   "pygments_lexer": "ipython3",
   "version": "3.10.0"
  },
  "orig_nbformat": 4
 },
 "nbformat": 4,
 "nbformat_minor": 2
}
